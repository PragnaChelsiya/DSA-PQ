{
 "cells": [
  {
   "cell_type": "code",
   "execution_count": 1,
   "id": "e72e73af-43b1-4b6c-99bd-1de6939939e8",
   "metadata": {},
   "outputs": [
    {
     "name": "stdout",
     "output_type": "stream",
     "text": [
      "Stack before removing duplicates: [1, 2, 3, 2, 4, 5, 3]\n",
      "Stack after removing duplicates: [1, 2, 4, 5, 3]\n"
     ]
    }
   ],
   "source": [
    "class Stack:\n",
    "    def __init__(self):\n",
    "        self.items = []\n",
    "    \n",
    "    def push(self, item):\n",
    "        self.items.append(item)\n",
    "    \n",
    "    def pop(self):\n",
    "        if not self.is_empty():\n",
    "            return self.items.pop()\n",
    "        return None\n",
    "    \n",
    "    def peek(self):\n",
    "        if not self.is_empty():\n",
    "            return self.items[-1]\n",
    "        return None\n",
    "    \n",
    "    def is_empty(self):\n",
    "        return len(self.items) == 0\n",
    "    \n",
    "    def get_middle(self):\n",
    "        if not self.is_empty():\n",
    "            mid_index = (len(self.items) - 1) // 2\n",
    "            return self.items[mid_index]\n",
    "        return None\n",
    "    \n",
    "    def remove_duplicates(self):\n",
    "        unique_items = []\n",
    "        seen = set()\n",
    "        while not self.is_empty():\n",
    "            item = self.pop()\n",
    "            if item not in seen:\n",
    "                seen.add(item)\n",
    "                unique_items.append(item)\n",
    "        \n",
    "        while unique_items:\n",
    "            self.push(unique_items.pop())\n",
    "\n",
    "# Example usage\n",
    "stack = Stack()\n",
    "stack.push(1)\n",
    "stack.push(2)\n",
    "stack.push(3)\n",
    "stack.push(2)\n",
    "stack.push(4)\n",
    "stack.push(5)\n",
    "stack.push(3)\n",
    "\n",
    "print(\"Stack before removing duplicates:\", stack.items)\n",
    "stack.remove_duplicates()\n",
    "print(\"Stack after removing duplicates:\", stack.items)"
   ]
  },
  {
   "cell_type": "code",
   "execution_count": null,
   "id": "c3a64657-8ddd-4868-88e5-e9a2008cfbb4",
   "metadata": {},
   "outputs": [],
   "source": []
  }
 ],
 "metadata": {
  "kernelspec": {
   "display_name": "Python 3 (ipykernel)",
   "language": "python",
   "name": "python3"
  },
  "language_info": {
   "codemirror_mode": {
    "name": "ipython",
    "version": 3
   },
   "file_extension": ".py",
   "mimetype": "text/x-python",
   "name": "python",
   "nbconvert_exporter": "python",
   "pygments_lexer": "ipython3",
   "version": "3.12.4"
  }
 },
 "nbformat": 4,
 "nbformat_minor": 5
}
