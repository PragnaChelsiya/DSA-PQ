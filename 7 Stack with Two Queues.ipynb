{
 "cells": [
  {
   "cell_type": "code",
   "execution_count": 1,
   "id": "4cde0eb7-bc43-4ff8-aaa0-20157d6cd0da",
   "metadata": {},
   "outputs": [
    {
     "name": "stdout",
     "output_type": "stream",
     "text": [
      "Top Element: 3\n",
      "Popped Element: 3\n",
      "Popped Element: 2\n",
      "Is Stack Empty? False\n"
     ]
    }
   ],
   "source": [
    "from collections import deque\n",
    "\n",
    "class StackWithQueues:\n",
    "    def __init__(self):\n",
    "        self.queue1 = deque()\n",
    "        self.queue2 = deque()\n",
    "    \n",
    "    def push(self, item):\n",
    "        self.queue1.append(item)\n",
    "    \n",
    "    def pop(self):\n",
    "        if self.is_empty():\n",
    "            return None\n",
    "        while len(self.queue1) > 1:\n",
    "            self.queue2.append(self.queue1.popleft())\n",
    "        top_item = self.queue1.popleft()\n",
    "        self.queue1, self.queue2 = self.queue2, self.queue1  # Swap queues\n",
    "        return top_item\n",
    "    \n",
    "    def peek(self):\n",
    "        if self.is_empty():\n",
    "            return None\n",
    "        while len(self.queue1) > 1:\n",
    "            self.queue2.append(self.queue1.popleft())\n",
    "        top_item = self.queue1[0]\n",
    "        self.queue2.append(self.queue1.popleft())\n",
    "        self.queue1, self.queue2 = self.queue2, self.queue1  # Swap queues\n",
    "        return top_item\n",
    "    \n",
    "    def is_empty(self):\n",
    "        return len(self.queue1) == 0\n",
    "\n",
    "# Example usage\n",
    "stack = StackWithQueues()\n",
    "stack.push(1)\n",
    "stack.push(2)\n",
    "stack.push(3)\n",
    "\n",
    "print(\"Top Element:\", stack.peek())  # Output: 3\n",
    "print(\"Popped Element:\", stack.pop())  # Output: 3\n",
    "print(\"Popped Element:\", stack.pop())  # Output: 2\n",
    "print(\"Is Stack Empty?\", stack.is_empty())  # Output: False\n"
   ]
  },
  {
   "cell_type": "code",
   "execution_count": null,
   "id": "1cb5d6f7-f610-4142-8218-6b20f54f2c9b",
   "metadata": {},
   "outputs": [],
   "source": []
  }
 ],
 "metadata": {
  "kernelspec": {
   "display_name": "Python 3 (ipykernel)",
   "language": "python",
   "name": "python3"
  },
  "language_info": {
   "codemirror_mode": {
    "name": "ipython",
    "version": 3
   },
   "file_extension": ".py",
   "mimetype": "text/x-python",
   "name": "python",
   "nbconvert_exporter": "python",
   "pygments_lexer": "ipython3",
   "version": "3.12.4"
  }
 },
 "nbformat": 4,
 "nbformat_minor": 5
}
