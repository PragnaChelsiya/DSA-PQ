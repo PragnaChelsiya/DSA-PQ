{
 "cells": [
  {
   "cell_type": "code",
   "execution_count": 1,
   "id": "18b794cb-e2ee-4c49-80ef-f916d8d458e2",
   "metadata": {},
   "outputs": [
    {
     "name": "stdout",
     "output_type": "stream",
     "text": [
      "Balanced Positions in expr1: [(0, 6), (10, 16)]\n",
      "Balanced Positions in expr2: [(1, 7), (11, 17), (0, 18), (22, 28)]\n",
      "Balanced Positions in expr3: [(5, 11), (0, 16), (20, 26)]\n"
     ]
    }
   ],
   "source": [
    "from collections import deque\n",
    "\n",
    "class Stack:\n",
    "    def __init__(self):\n",
    "        self.items = []\n",
    "    \n",
    "    def push(self, item):\n",
    "        self.items.append(item)\n",
    "    \n",
    "    def pop(self):\n",
    "        if not self.is_empty():\n",
    "            return self.items.pop()\n",
    "        return None\n",
    "    \n",
    "    def peek(self):\n",
    "        if not self.is_empty():\n",
    "            return self.items[-1]\n",
    "        return None\n",
    "    \n",
    "    def is_empty(self):\n",
    "        return len(self.items) == 0\n",
    "    \n",
    "    def remove_less_than(self, x):\n",
    "        temp_stack = []\n",
    "        while not self.is_empty():\n",
    "            item = self.pop()\n",
    "            if item >= x:\n",
    "                temp_stack.append(item)\n",
    "        \n",
    "        while temp_stack:\n",
    "            self.push(temp_stack.pop())\n",
    "\n",
    "def find_balanced_positions(expression):\n",
    "    stack = Stack()\n",
    "    balanced_positions = []\n",
    "    matched_pairs = {}\n",
    "    \n",
    "    for i, char in enumerate(expression):\n",
    "        if char == '(':\n",
    "            stack.push(i)\n",
    "        elif char == ')':\n",
    "            if not stack.is_empty():\n",
    "                open_pos = stack.pop()\n",
    "                matched_pairs[open_pos] = i\n",
    "    \n",
    "    for start, end in matched_pairs.items():\n",
    "        balanced_positions.append((start, end))\n",
    "    \n",
    "    return balanced_positions\n",
    "\n",
    "# Example usage\n",
    "expr1 = \"(a + b) * (c - d)\"\n",
    "expr2 = \"((a + b) * (c - d)) + (x * y)\"\n",
    "expr3 = \"(a + (b + c) * d) + (e + f)\"\n",
    "\n",
    "print(\"Balanced Positions in expr1:\", find_balanced_positions(expr1))  # Output: [(0, 6), (10, 16)]\n",
    "print(\"Balanced Positions in expr2:\", find_balanced_positions(expr2))  # Output: [(1, 17), (19, 25), (0, 26)]\n",
    "print(\"Balanced Positions in expr3:\", find_balanced_positions(expr3))  # Output: [(3, 9), (2, 10), (14, 20)]\n"
   ]
  },
  {
   "cell_type": "code",
   "execution_count": null,
   "id": "beb98c77-1c62-4c55-b1d4-9616dfc431a5",
   "metadata": {},
   "outputs": [],
   "source": []
  }
 ],
 "metadata": {
  "kernelspec": {
   "display_name": "Python 3 (ipykernel)",
   "language": "python",
   "name": "python3"
  },
  "language_info": {
   "codemirror_mode": {
    "name": "ipython",
    "version": 3
   },
   "file_extension": ".py",
   "mimetype": "text/x-python",
   "name": "python",
   "nbconvert_exporter": "python",
   "pygments_lexer": "ipython3",
   "version": "3.12.4"
  }
 },
 "nbformat": 4,
 "nbformat_minor": 5
}
