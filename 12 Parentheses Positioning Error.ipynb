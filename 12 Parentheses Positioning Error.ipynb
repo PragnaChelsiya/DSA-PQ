{
 "cells": [
  {
   "cell_type": "code",
   "execution_count": 1,
   "id": "f9fe1621-520d-4066-975e-9cb8fd9fa3eb",
   "metadata": {},
   "outputs": [
    {
     "name": "stdout",
     "output_type": "stream",
     "text": [
      "Mismatched Position in expr1: 17\n",
      "Mismatched Position in expr2: 0\n",
      "Mismatched Position in expr3: -1\n"
     ]
    }
   ],
   "source": [
    "from collections import deque\n",
    "\n",
    "class Stack:\n",
    "    def __init__(self):\n",
    "        self.items = []\n",
    "    \n",
    "    def push(self, item):\n",
    "        self.items.append(item)\n",
    "    \n",
    "    def pop(self):\n",
    "        if not self.is_empty():\n",
    "            return self.items.pop()\n",
    "        return None\n",
    "    \n",
    "    def peek(self):\n",
    "        if not self.is_empty():\n",
    "            return self.items[-1]\n",
    "        return None\n",
    "    \n",
    "    def is_empty(self):\n",
    "        return len(self.items) == 0\n",
    "    \n",
    "    def remove_less_than(self, x):\n",
    "        temp_stack = []\n",
    "        while not self.is_empty():\n",
    "            item = self.pop()\n",
    "            if item >= x:\n",
    "                temp_stack.append(item)\n",
    "        \n",
    "        while temp_stack:\n",
    "            self.push(temp_stack.pop())\n",
    "\n",
    "def find_mismatched_parenthesis(expression):\n",
    "    stack = Stack()\n",
    "    for i, char in enumerate(expression):\n",
    "        if char == '(':\n",
    "            stack.push(i)\n",
    "        elif char == ')':\n",
    "            if stack.is_empty():\n",
    "                return i  # Mismatched closing parenthesis\n",
    "            stack.pop()\n",
    "    \n",
    "    return stack.pop() if not stack.is_empty() else -1  # Return first unmatched opening parenthesis or -1\n",
    "\n",
    "# Example usage\n",
    "expr1 = \"(a + b) * (c - d))\"\n",
    "expr2 = \"((a + b) * (c - d)\"\n",
    "expr3 = \"(a + b) * (c - d)\"\n",
    "\n",
    "print(\"Mismatched Position in expr1:\", find_mismatched_parenthesis(expr1))  # Output: 14\n",
    "print(\"Mismatched Position in expr2:\", find_mismatched_parenthesis(expr2))  # Output: 0\n",
    "print(\"Mismatched Position in expr3:\", find_mismatched_parenthesis(expr3))  # Output: -1\n"
   ]
  }
 ],
 "metadata": {
  "kernelspec": {
   "display_name": "Python 3 (ipykernel)",
   "language": "python",
   "name": "python3"
  },
  "language_info": {
   "codemirror_mode": {
    "name": "ipython",
    "version": 3
   },
   "file_extension": ".py",
   "mimetype": "text/x-python",
   "name": "python",
   "nbconvert_exporter": "python",
   "pygments_lexer": "ipython3",
   "version": "3.12.4"
  }
 },
 "nbformat": 4,
 "nbformat_minor": 5
}
