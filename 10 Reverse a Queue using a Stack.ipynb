{
 "cells": [
  {
   "cell_type": "code",
   "execution_count": 1,
   "id": "a3499d9e-8102-46f7-9191-81b8bec1cf9a",
   "metadata": {},
   "outputs": [
    {
     "name": "stdout",
     "output_type": "stream",
     "text": [
      "Original Queue: [1, 2, 3, 4, 5]\n",
      "Reversed Queue: [5, 4, 3, 2, 1]\n"
     ]
    }
   ],
   "source": [
    "from collections import deque\n",
    "\n",
    "class Stack:\n",
    "    def __init__(self):\n",
    "        self.items = []\n",
    "    \n",
    "    def push(self, item):\n",
    "        self.items.append(item)\n",
    "    \n",
    "    def pop(self):\n",
    "        if not self.is_empty():\n",
    "            return self.items.pop()\n",
    "        return None\n",
    "    \n",
    "    def peek(self):\n",
    "        if not self.is_empty():\n",
    "            return self.items[-1]\n",
    "        return None\n",
    "    \n",
    "    def is_empty(self):\n",
    "        return len(self.items) == 0\n",
    "\n",
    "def reverse_queue(queue):\n",
    "    stack = Stack()\n",
    "    \n",
    "    while queue:\n",
    "        stack.push(queue.popleft())\n",
    "    \n",
    "    while not stack.is_empty():\n",
    "        queue.append(stack.pop())\n",
    "    \n",
    "    return queue\n",
    "\n",
    "# Example usage\n",
    "queue = deque([1, 2, 3, 4, 5])\n",
    "print(\"Original Queue:\", list(queue))\n",
    "reversed_queue = reverse_queue(queue)\n",
    "print(\"Reversed Queue:\", list(reversed_queue))\n"
   ]
  },
  {
   "cell_type": "code",
   "execution_count": null,
   "id": "af226355-0187-4c77-a21b-47ab4e3a320c",
   "metadata": {},
   "outputs": [],
   "source": []
  }
 ],
 "metadata": {
  "kernelspec": {
   "display_name": "Python 3 (ipykernel)",
   "language": "python",
   "name": "python3"
  },
  "language_info": {
   "codemirror_mode": {
    "name": "ipython",
    "version": 3
   },
   "file_extension": ".py",
   "mimetype": "text/x-python",
   "name": "python",
   "nbconvert_exporter": "python",
   "pygments_lexer": "ipython3",
   "version": "3.12.4"
  }
 },
 "nbformat": 4,
 "nbformat_minor": 5
}
