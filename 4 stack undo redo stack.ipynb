{
 "cells": [
  {
   "cell_type": "code",
   "execution_count": 1,
   "id": "c989e58b-1316-4914-85c0-404951316424",
   "metadata": {},
   "outputs": [
    {
     "name": "stdout",
     "output_type": "stream",
     "text": [
      "Undo: Action 3\n",
      "Undo: Action 2\n",
      "Redo: Action 2\n",
      "Undo: Action 4\n"
     ]
    }
   ],
   "source": [
    " class Stack:\n",
    "    def __init__(self):\n",
    "        self.items = []\n",
    "    \n",
    "    def push(self, item):\n",
    "        self.items.append(item)\n",
    "    \n",
    "    def pop(self):\n",
    "        if not self.is_empty():\n",
    "            return self.items.pop()\n",
    "        return None\n",
    "    \n",
    "    def peek(self):\n",
    "        if not self.is_empty():\n",
    "            return self.items[-1]\n",
    "        return None\n",
    "    \n",
    "    def is_empty(self):\n",
    "        return len(self.items) == 0\n",
    "\n",
    "class UndoRedoStack:\n",
    "    def __init__(self):\n",
    "        self.undo_stack = Stack()\n",
    "        self.redo_stack = Stack()\n",
    "    \n",
    "    def do_action(self, action):\n",
    "        self.undo_stack.push(action)\n",
    "        self.redo_stack = Stack()  # Clear redo stack on new action\n",
    "    \n",
    "    def undo(self):\n",
    "        if not self.undo_stack.is_empty():\n",
    "            action = self.undo_stack.pop()\n",
    "            self.redo_stack.push(action)\n",
    "            return action\n",
    "        return None\n",
    "    \n",
    "    def redo(self):\n",
    "        if not self.redo_stack.is_empty():\n",
    "            action = self.redo_stack.pop()\n",
    "            self.undo_stack.push(action)\n",
    "            return action\n",
    "        return None\n",
    "\n",
    "# Example usage\n",
    "history = UndoRedoStack()\n",
    "history.do_action(\"Action 1\")\n",
    "history.do_action(\"Action 2\")\n",
    "history.do_action(\"Action 3\")\n",
    "\n",
    "print(\"Undo:\", history.undo())\n",
    "print(\"Undo:\", history.undo())\n",
    "print(\"Redo:\", history.redo())\n",
    "history.do_action(\"Action 4\")\n",
    "print(\"Undo:\", history.undo())\n"
   ]
  },
  {
   "cell_type": "code",
   "execution_count": null,
   "id": "6f1095ec-f3c9-4e47-92c6-f9a9a2136a40",
   "metadata": {},
   "outputs": [],
   "source": []
  }
 ],
 "metadata": {
  "kernelspec": {
   "display_name": "Python 3 (ipykernel)",
   "language": "python",
   "name": "python3"
  },
  "language_info": {
   "codemirror_mode": {
    "name": "ipython",
    "version": 3
   },
   "file_extension": ".py",
   "mimetype": "text/x-python",
   "name": "python",
   "nbconvert_exporter": "python",
   "pygments_lexer": "ipython3",
   "version": "3.12.4"
  }
 },
 "nbformat": 4,
 "nbformat_minor": 5
}
