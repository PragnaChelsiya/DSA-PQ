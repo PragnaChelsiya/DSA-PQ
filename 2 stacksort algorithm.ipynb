{
 "cells": [
  {
   "cell_type": "code",
   "execution_count": 1,
   "id": "6fb8dfba-1cd8-4aeb-8382-bdd4ad7bfbdb",
   "metadata": {},
   "outputs": [
    {
     "name": "stdout",
     "output_type": "stream",
     "text": [
      "Original Stack: [3, 1, 4, 2]\n",
      "Sorted Stack: [1, 2, 3, 4]\n"
     ]
    }
   ],
   "source": [
    "class Stack:\n",
    "    def __init__(self):\n",
    "        self.items = []\n",
    "    \n",
    "    def push(self, item):\n",
    "        self.items.append(item)\n",
    "    \n",
    "    def pop(self):\n",
    "        if not self.is_empty():\n",
    "            return self.items.pop()\n",
    "        return None\n",
    "    \n",
    "    def peek(self):\n",
    "        if not self.is_empty():\n",
    "            return self.items[-1]\n",
    "        return None\n",
    "    \n",
    "    def is_empty(self):\n",
    "        return len(self.items) == 0\n",
    "\n",
    "def sorted_insert(stack, element):\n",
    "    if stack.is_empty() or element > stack.peek():\n",
    "        stack.push(element)\n",
    "    else:\n",
    "        temp = stack.pop()\n",
    "        sorted_insert(stack, element)\n",
    "        stack.push(temp)\n",
    "\n",
    "def sort_stack(stack):\n",
    "    if not stack.is_empty():\n",
    "        temp = stack.pop()\n",
    "        sort_stack(stack)\n",
    "        sorted_insert(stack, temp)\n",
    "\n",
    "# Example usage\n",
    "stack = Stack()\n",
    "stack.push(3)\n",
    "stack.push(1)\n",
    "stack.push(4)\n",
    "stack.push(2)\n",
    "\n",
    "print(\"Original Stack:\", stack.items)\n",
    "sort_stack(stack)\n",
    "print(\"Sorted Stack:\", stack.items)\n"
   ]
  },
  {
   "cell_type": "code",
   "execution_count": null,
   "id": "fdfe93d8-1a12-4857-a1b8-2fec4bc2ec09",
   "metadata": {},
   "outputs": [],
   "source": []
  }
 ],
 "metadata": {
  "kernelspec": {
   "display_name": "Python 3 (ipykernel)",
   "language": "python",
   "name": "python3"
  },
  "language_info": {
   "codemirror_mode": {
    "name": "ipython",
    "version": 3
   },
   "file_extension": ".py",
   "mimetype": "text/x-python",
   "name": "python",
   "nbconvert_exporter": "python",
   "pygments_lexer": "ipython3",
   "version": "3.12.4"
  }
 },
 "nbformat": 4,
 "nbformat_minor": 5
}
