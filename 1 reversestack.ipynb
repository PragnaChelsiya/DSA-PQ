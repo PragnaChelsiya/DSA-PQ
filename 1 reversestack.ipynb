{
 "cells": [
  {
   "cell_type": "code",
   "execution_count": 1,
   "id": "16b6c87c-563e-4ed8-bc64-47623cf3b9ce",
   "metadata": {},
   "outputs": [
    {
     "name": "stdout",
     "output_type": "stream",
     "text": [
      "Original String: hello\n",
      "Reversed String: olleh\n"
     ]
    }
   ],
   "source": [
    "class Stack:\n",
    "    def __init__(self):\n",
    "        self.items = []\n",
    "    \n",
    "    def push(self, item):\n",
    "        self.items.append(item)\n",
    "    \n",
    "    def pop(self):\n",
    "        if not self.is_empty():\n",
    "            return self.items.pop()\n",
    "        return None\n",
    "    \n",
    "    def is_empty(self):\n",
    "        return len(self.items) == 0\n",
    "\n",
    "def reverse_string(input_string):\n",
    "    stack = Stack()\n",
    "    \n",
    "    # Push all characters onto the stack\n",
    "    for char in input_string:\n",
    "        stack.push(char)\n",
    "    \n",
    "    reversed_str = \"\"\n",
    "    # Pop characters from the stack to reverse the string\n",
    "    while not stack.is_empty():\n",
    "        reversed_str += stack.pop()\n",
    "    \n",
    "    return reversed_str\n",
    "\n",
    "# Example usage\n",
    "input_string = \"hello\"\n",
    "print(\"Original String:\", input_string)\n",
    "print(\"Reversed String:\", reverse_string(input_string))\n"
   ]
  },
  {
   "cell_type": "code",
   "execution_count": null,
   "id": "d5377cf6-c258-4f78-940b-f6492e0a9565",
   "metadata": {},
   "outputs": [],
   "source": []
  }
 ],
 "metadata": {
  "kernelspec": {
   "display_name": "Python 3 (ipykernel)",
   "language": "python",
   "name": "python3"
  },
  "language_info": {
   "codemirror_mode": {
    "name": "ipython",
    "version": 3
   },
   "file_extension": ".py",
   "mimetype": "text/x-python",
   "name": "python",
   "nbconvert_exporter": "python",
   "pygments_lexer": "ipython3",
   "version": "3.12.4"
  }
 },
 "nbformat": 4,
 "nbformat_minor": 5
}
