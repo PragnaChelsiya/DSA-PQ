{
 "cells": [
  {
   "cell_type": "code",
   "execution_count": 1,
   "id": "8ccdb18d-9bf4-42a1-8dd3-66e94f797065",
   "metadata": {},
   "outputs": [
    {
     "name": "stdout",
     "output_type": "stream",
     "text": [
      "Next Greater Elements: [5, 10, 10, -1, -1]\n"
     ]
    }
   ],
   "source": [
    "class Stack:\n",
    "    def __init__(self):\n",
    "        self.items = []\n",
    "    \n",
    "    def push(self, item):\n",
    "        self.items.append(item)\n",
    "    \n",
    "    def pop(self):\n",
    "        if not self.is_empty():\n",
    "            return self.items.pop()\n",
    "        return None\n",
    "    \n",
    "    def peek(self):\n",
    "        if not self.is_empty():\n",
    "            return self.items[-1]\n",
    "        return None\n",
    "    \n",
    "    def is_empty(self):\n",
    "        return len(self.items) == 0\n",
    "\n",
    "def next_greater_element(arr):\n",
    "    stack = Stack()\n",
    "    result = [-1] * len(arr)\n",
    "    \n",
    "    for i in range(len(arr) - 1, -1, -1):\n",
    "        while not stack.is_empty() and stack.peek() <= arr[i]:\n",
    "            stack.pop()\n",
    "        \n",
    "        if not stack.is_empty():\n",
    "            result[i] = stack.peek()\n",
    "        \n",
    "        stack.push(arr[i])\n",
    "    \n",
    "    return result\n",
    "\n",
    "# Example usage\n",
    "arr = [4, 5, 2, 10, 8]\n",
    "print(\"Next Greater Elements:\", next_greater_element(arr))  # Output: [5, 10, 10, -1, -1]\n"
   ]
  },
  {
   "cell_type": "code",
   "execution_count": null,
   "id": "e2273231-e722-4f54-bc3c-4a90c1481f74",
   "metadata": {},
   "outputs": [],
   "source": []
  }
 ],
 "metadata": {
  "kernelspec": {
   "display_name": "Python 3 (ipykernel)",
   "language": "python",
   "name": "python3"
  },
  "language_info": {
   "codemirror_mode": {
    "name": "ipython",
    "version": 3
   },
   "file_extension": ".py",
   "mimetype": "text/x-python",
   "name": "python",
   "nbconvert_exporter": "python",
   "pygments_lexer": "ipython3",
   "version": "3.12.4"
  }
 },
 "nbformat": 4,
 "nbformat_minor": 5
}
